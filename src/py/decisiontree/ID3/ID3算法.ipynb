{
 "cells": [
  {
   "cell_type": "markdown",
   "metadata": {
    "collapsed": true
   },
   "source": [
    "# ID3测试程序\n",
    "\n",
    "## 题目\n",
    "有一个海洋生物，它不浮出水面可以生存，并且没有脚蹼，你来判断一下是否属于鱼类？\n",
    "\n",
    "通过决策树，你就可以快速给出答案不是鱼类。"
   ]
  },
  {
   "cell_type": "code",
   "execution_count": null,
   "metadata": {},
   "outputs": [
    {
     "name": "stdout",
     "output_type": "stream",
     "text": [
      "决策树结构：{'no surfacing': {0: 'no', 1: {'flippers': {0: 'no', 1: 'yes'}}}}\n",
      "绘制决策树：\n"
     ]
    },
    {
     "data": {
      "image/png": "[encoded data removed]",
      "text/plain": [
       "<matplotlib.figure.Figure at 0x114d7e898>"
      ]
     },
     "metadata": {},
     "output_type": "display_data"
    },
    {
     "name": "stdout",
     "output_type": "stream",
     "text": [
      "叶子节点数目：3\n",
      "树深度：2\n",
      "[1,1] 测试结果为：yes\n",
      "[1,0] 测试结果为：no\n"
     ]
    }
   ],
   "source": [
    "import myTrees as mt\n",
    "import treePlotter as tp\n",
    "\n",
    "#测试\n",
    "dataSet, labels = mt.createDataSet()\n",
    "#copy函数：新开辟一块内存，然后将list的所有值复制到新开辟的内存中\n",
    "labels1 = labels.copy()\n",
    "#createTree函数中将labels1的值改变了，所以在分类测试时不能用labels1\n",
    "myTree = mt.createTree(dataSet,labels1)\n",
    "#保存树到本地\n",
    "mt.storeTree(myTree,'myTree.txt')\n",
    "#在本地磁盘获取树\n",
    "myTree = mt.grabTree('myTree.txt')\n",
    "print (u\"决策树结构：%s\"%myTree)\n",
    "#绘制决策树\n",
    "print(u\"绘制决策树：\")\n",
    "tp.createPlot(myTree)\n",
    "numLeafs =tp.getNumLeafs(myTree)\n",
    "treeDepth =tp.getTreeDepth(myTree)\n",
    "print(u\"叶子节点数目：%d\"% numLeafs)\n",
    "print(u\"树深度：%d\"%treeDepth)\n",
    "#测试分类 简单样本数据3列\n",
    "labelResult =mt.classify(myTree,labels,[1,1])\n",
    "print(u\"[1,1] 测试结果为：%s\"%labelResult)\n",
    "labelResult =mt.classify(myTree,labels,[1,0])\n",
    "print(u\"[1,0] 测试结果为：%s\"%labelResult)"
   ]
  },
  {
   "cell_type": "markdown",
   "metadata": {
    "collapsed": true
   },
   "source": [
    "## 函数分析"
   ]
  },
  {
   "cell_type": "code",
   "execution_count": 25,
   "metadata": {},
   "outputs": [
    {
     "ename": "SyntaxError",
     "evalue": "Missing parentheses in call to 'print' (<ipython-input-25-4b8e55b1f705>, line 14)",
     "traceback": [
      "\u001b[0;36m  File \u001b[0;32m\"<ipython-input-25-4b8e55b1f705>\"\u001b[0;36m, line \u001b[0;32m14\u001b[0m\n\u001b[0;31m    print \"\" + classList;\u001b[0m\n\u001b[0m           ^\u001b[0m\n\u001b[0;31mSyntaxError\u001b[0m\u001b[0;31m:\u001b[0m Missing parentheses in call to 'print'\n"
     ],
     "output_type": "error"
    }
   ],
   "source": [
    "def createDataSet():\n",
    "    dataSet = [[1, 1, 'yes'],\n",
    "               [1, 1, 'yes'],\n",
    "               [1, 0, 'no'],\n",
    "               [0, 1, 'no'],\n",
    "               [0, 1, 'no']]\n",
    "    labels = ['no surfacing','flippers']\n",
    "    return dataSet, labels\n",
    "\n",
    "dataSet_2, labels_2 = createDataSet();\n",
    "\n",
    "classList = [example[-1] for example in dataSet_2]\n",
    "\n",
    "print \"\" + classList;"
   ]
  },
  {
   "cell_type": "code",
   "execution_count": null,
   "metadata": {
    "collapsed": true
   },
   "outputs": [],
   "source": []
  }
 ],
 "metadata": {
  "kernelspec": {
   "display_name": "Python 3",
   "language": "python",
   "name": "python3"
  },
  "language_info": {
   "codemirror_mode": {
    "name": "ipython",
    "version": 3
   },
   "file_extension": ".py",
   "mimetype": "text/x-python",
   "name": "python",
   "nbconvert_exporter": "python",
   "pygments_lexer": "ipython3",
   "version": "3.6.0"
  }
 },
 "nbformat": 4,
 "nbformat_minor": 2
}
